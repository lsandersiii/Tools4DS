{
 "cells": [
  {
   "cell_type": "markdown",
   "metadata": {},
   "source": [
    "<center>\n",
    "    <img src=\"https://cf-courses-data.s3.us.cloud-object-storage.appdomain.cloud/IBMDeveloperSkillsNetwork-DS0105EN-SkillsNetwork/labs/Module2/images/SN_web_lightmode.png\" width=\"300\" alt=\"cognitiveclass.ai logo\">\n",
    "</center>\n"
   ]
  },
  {
   "cell_type": "markdown",
   "metadata": {},
   "source": [
    "#### Add your code below following the instructions given in the course\n"
   ]
  },
  {
   "cell_type": "markdown",
   "metadata": {},
   "source": [
    "# Note Book title \n",
    "## Exercise 2 - Create a markdown cell with the title of the notebook. (1 pt)"
   ]
  },
  {
   "cell_type": "markdown",
   "metadata": {},
   "source": [
    "## Exercise 3 - This is the markdown cell for the introduction\n",
    "THis is the introduction. "
   ]
  },
  {
   "cell_type": "markdown",
   "metadata": {},
   "source": [
    "## Exercise 4 - List of Data Science Languages\n",
    "*Python\n",
    "*R\n",
    "*SQL\n",
    "*Java\n",
    "*Julia\n",
    "*Scala\n",
    "*C/C++\n",
    "*JavaScript\n",
    "*Swift\n",
    "*Go\n",
    "*MATLAB"
   ]
  },
  {
   "cell_type": "markdown",
   "metadata": {},
   "source": [
    "## Exercise 5 - List of data science libraries\n",
    "+TensorFlow\n",
    "+NumPy\n",
    "+SciPy \n",
    "+Pandas\n",
    "+Matplotlib \n",
    "+Keras\n",
    "+SciKit-Learn\n",
    "+PyTorch\n",
    "+Scrapy\n",
    "+BeautifulSoup"
   ]
  },
  {
   "cell_type": "markdown",
   "metadata": {},
   "source": [
    "## Exercise 6 - Data SCience Tools\n",
    "| Tool Name | Function |\n",
    "| -------------| ------------ |\n",
    "| Jupyter Notebook | Development |\n",
    "| PyTorch | Machine Learning|\n",
    "| HUgging Face| Machine Learning |\n",
    "| Tableau | Visualization |"
   ]
  },
  {
   "cell_type": "markdown",
   "metadata": {},
   "source": [
    "## Exercise 7 - Introducing arithmetic expression examples\n",
    "Addition: 12 + 4\n",
    "Subtraction: 13-2\n",
    "Multiplication: 4*3\n",
    "Division: 12/3\n",
    "Exponential: 4**2; 4^2\n",
    "Modulo: 9%4\n"
   ]
  },
  {
   "cell_type": "markdown",
   "metadata": {},
   "source": [
    "## Exercise 8 - multiply and add numbers "
   ]
  },
  {
   "cell_type": "code",
   "execution_count": null,
   "metadata": {},
   "outputs": [],
   "source": [
    "32 * 12\n",
    "43 + 91"
   ]
  },
  {
   "cell_type": "markdown",
   "metadata": {},
   "source": [
    "## Exercise 9 - Convert minutes to hours\n",
    "Convert 180 minutes to hours"
   ]
  },
  {
   "cell_type": "code",
   "execution_count": null,
   "metadata": {},
   "outputs": [],
   "source": [
    "180/60"
   ]
  },
  {
   "cell_type": "markdown",
   "metadata": {},
   "source": [
    "## Exercise 10 - List Objectives\n",
    "Objective 1\n",
    "Objective 2\n",
    "Objective 3"
   ]
  },
  {
   "cell_type": "markdown",
   "metadata": {},
   "source": [
    "## Exercise 11 - Author's Name\n",
    "Author: Lonnie Sanders III"
   ]
  }
 ],
 "metadata": {
  "kernelspec": {
   "display_name": "Python 3 (ipykernel)",
   "language": "python",
   "name": "python3"
  },
  "language_info": {
   "codemirror_mode": {
    "name": "ipython",
    "version": 3
   },
   "file_extension": ".py",
   "mimetype": "text/x-python",
   "name": "python",
   "nbconvert_exporter": "python",
   "pygments_lexer": "ipython3",
   "version": "3.11.9"
  }
 },
 "nbformat": 4,
 "nbformat_minor": 4
}
